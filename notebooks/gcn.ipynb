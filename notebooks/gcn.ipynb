{
 "cells": [
  {
   "cell_type": "code",
   "execution_count": 1,
   "metadata": {},
   "outputs": [],
   "source": [
    "import torch\n",
    "import torch.nn.functional as F"
   ]
  },
  {
   "cell_type": "code",
   "execution_count": 2,
   "metadata": {},
   "outputs": [],
   "source": [
    "A_tilde = torch.tensor([\n",
    "    [1, 1, 1, 0, 0],\n",
    "    [1, 1, 1, 1, 1],\n",
    "    [1, 1, 1, 0, 0],\n",
    "    [0, 1, 0, 1, 1],\n",
    "    [0, 1, 0, 1, 1]\n",
    "], dtype=torch.float32)\n",
    "\n",
    "D_tilde = torch.tensor([\n",
    "    [3, 0, 0, 0, 0],\n",
    "    [0, 5, 0, 0, 0],\n",
    "    [0, 0, 3, 0, 0],\n",
    "    [0, 0, 0, 3, 0],\n",
    "    [0, 0, 0, 0, 3]\n",
    "], dtype=torch.float32)\n",
    "\n",
    "X = torch.tensor([\n",
    "    [1, 2, 1, 2],\n",
    "    [2, 1, 2, 1],\n",
    "    [2, 2, 1, 1],\n",
    "    [1, 1, 2, 2],\n",
    "    [2, 1, 1, 1]\n",
    "], dtype=torch.float32)\n",
    "\n",
    "W = torch.tensor([\n",
    "    [1, 1, 1, 1, 1, 1, 1, 1],\n",
    "    [1, 1, 1, 1, 1, 1, 1, 1],\n",
    "    [1, 1, 1, 1, 1, 1, 1, 1],\n",
    "    [1, 1, 1, 1, 1, 1, 1, 1]\n",
    "], dtype=torch.float32)"
   ]
  },
  {
   "cell_type": "code",
   "execution_count": 4,
   "metadata": {},
   "outputs": [
    {
     "name": "stdout",
     "output_type": "stream",
     "text": [
      "D^(-1/2):\n",
      "tensor([[0.5774, 0.0000, 0.0000, 0.0000, 0.0000],\n",
      "        [0.0000, 0.4472, 0.0000, 0.0000, 0.0000],\n",
      "        [0.0000, 0.0000, 0.5774, 0.0000, 0.0000],\n",
      "        [0.0000, 0.0000, 0.0000, 0.5774, 0.0000],\n",
      "        [0.0000, 0.0000, 0.0000, 0.0000, 0.5774]])\n",
      "\n",
      "A_norm = D^(-1/2) * A * D^(-1/2):\n",
      "tensor([[0.3333, 0.2582, 0.3333, 0.0000, 0.0000],\n",
      "        [0.2582, 0.2000, 0.2582, 0.2582, 0.2582],\n",
      "        [0.3333, 0.2582, 0.3333, 0.0000, 0.0000],\n",
      "        [0.0000, 0.2582, 0.0000, 0.3333, 0.3333],\n",
      "        [0.0000, 0.2582, 0.0000, 0.3333, 0.3333]])\n",
      "\n",
      "GCN output X_new:\n",
      "tensor([[5.5492, 5.5492, 5.5492, 5.5492, 5.5492, 5.5492, 5.5492, 5.5492],\n",
      "        [7.1386, 7.1386, 7.1386, 7.1386, 7.1386, 7.1386, 7.1386, 7.1386],\n",
      "        [5.5492, 5.5492, 5.5492, 5.5492, 5.5492, 5.5492, 5.5492, 5.5492],\n",
      "        [5.2159, 5.2159, 5.2159, 5.2159, 5.2159, 5.2159, 5.2159, 5.2159],\n",
      "        [5.2159, 5.2159, 5.2159, 5.2159, 5.2159, 5.2159, 5.2159, 5.2159]])\n"
     ]
    }
   ],
   "source": [
    "# Calculate D^(-1/2)\n",
    "D_inv_sqrt = torch.diag(1.0 / torch.sqrt(torch.diag(D_tilde)))\n",
    "\n",
    "# Calculate A_norm = D^(-1/2) * A * D^(-1/2)\n",
    "A_norm = torch.mm(torch.mm(D_inv_sqrt, A_tilde), D_inv_sqrt)\n",
    "\n",
    "# Perform GCN operation: X_new = A_norm * X * W\n",
    "X_new = torch.mm(torch.mm(A_norm, X), W)\n",
    "\n",
    "print(\"D^(-1/2):\")\n",
    "print(D_inv_sqrt)\n",
    "\n",
    "print(\"\\nA_norm = D^(-1/2) * A * D^(-1/2):\")\n",
    "print(A_norm)\n",
    "\n",
    "print(\"\\nGCN output X_new:\")\n",
    "print(X_new)"
   ]
  }
 ],
 "metadata": {
  "kernelspec": {
   "display_name": "gnnbctfd",
   "language": "python",
   "name": "python3"
  },
  "language_info": {
   "codemirror_mode": {
    "name": "ipython",
    "version": 3
   },
   "file_extension": ".py",
   "mimetype": "text/x-python",
   "name": "python",
   "nbconvert_exporter": "python",
   "pygments_lexer": "ipython3",
   "version": "3.12.4"
  }
 },
 "nbformat": 4,
 "nbformat_minor": 2
}
